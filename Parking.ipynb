{
 "cells": [
  {
   "cell_type": "code",
   "execution_count": 1,
   "id": "6ce4021f-39a0-49a5-96dd-663da9ad9a15",
   "metadata": {},
   "outputs": [
    {
     "name": "stderr",
     "output_type": "stream",
     "text": [
      "C:\\Users\\1\\anaconda3\\lib\\site-packages\\IPython\\core\\interactiveshell.py:3165: DtypeWarning: Columns (20,31,32) have mixed types.Specify dtype option on import or set low_memory=False.\n",
      "  has_raised = await self.run_ast_nodes(code_ast.body, cell_name,\n"
     ]
    }
   ],
   "source": [
    "import numpy as np\n",
    "import pandas as pd\n",
    "\n",
    "#load and read the data\n",
    "\n",
    "df = pd.read_csv(\"311_Service_Requests_2020.csv\")"
   ]
  },
  {
   "cell_type": "code",
   "execution_count": 2,
   "id": "d1140a59",
   "metadata": {},
   "outputs": [
    {
     "name": "stdout",
     "output_type": "stream",
     "text": [
      "         Unique Key            Created Date             Closed Date Agency  \\\n",
      "0          45285347  01/01/2020 12:00:00 AM  01/10/2020 12:00:01 AM  DOHMH   \n",
      "1          45285651  01/01/2020 12:00:00 AM  01/02/2020 12:00:01 AM  DOHMH   \n",
      "2          45285821  01/01/2020 12:00:00 AM  01/02/2020 09:50:09 AM  DOHMH   \n",
      "3          45287907  01/01/2020 12:00:00 AM  01/02/2020 12:00:01 AM  DOHMH   \n",
      "4          45288240  01/01/2020 12:00:00 AM  01/02/2020 12:00:01 AM  DOHMH   \n",
      "...             ...                     ...                     ...    ...   \n",
      "2587311    48536847  12/31/2020 12:00:00 AM  12/31/2020 02:10:48 PM  DOHMH   \n",
      "2587312    48537845  12/31/2020 12:00:00 AM  12/31/2020 02:10:13 PM  DOHMH   \n",
      "2587313    48536999  12/31/2020 12:00:00 AM  01/06/2021 12:00:01 AM  DOHMH   \n",
      "2587314    48538698  12/31/2020 12:00:00 AM  12/31/2020 12:00:01 AM  DOHMH   \n",
      "2587315    48543111  12/31/2020 12:00:00 AM  12/31/2020 12:00:01 AM  DOHMH   \n",
      "\n",
      "                                     Agency Name  Complaint Type Descriptor  \\\n",
      "0        Department of Health and Mental Hygiene  Food Poisoning  3 or More   \n",
      "1        Department of Health and Mental Hygiene  Food Poisoning     1 or 2   \n",
      "2        Department of Health and Mental Hygiene  Food Poisoning     1 or 2   \n",
      "3        Department of Health and Mental Hygiene  Food Poisoning  3 or More   \n",
      "4        Department of Health and Mental Hygiene  Food Poisoning     1 or 2   \n",
      "...                                          ...             ...        ...   \n",
      "2587311  Department of Health and Mental Hygiene  Food Poisoning  3 or More   \n",
      "2587312  Department of Health and Mental Hygiene  Food Poisoning     1 or 2   \n",
      "2587313  Department of Health and Mental Hygiene  Food Poisoning     1 or 2   \n",
      "2587314  Department of Health and Mental Hygiene  Food Poisoning     1 or 2   \n",
      "2587315  Department of Health and Mental Hygiene  Food Poisoning     1 or 2   \n",
      "\n",
      "                      Location Type  Incident Zip         Incident Address  \\\n",
      "0        Restaurant/Bar/Deli/Bakery       11229.0     3442 NOSTRAND AVENUE   \n",
      "1        Restaurant/Bar/Deli/Bakery       10458.0      2701 DECATUR AVENUE   \n",
      "2             Other (Explain Below)       11203.0       5707 CHURCH AVENUE   \n",
      "3        Restaurant/Bar/Deli/Bakery       11214.0       1602 SHORE PARKWAY   \n",
      "4        Restaurant/Bar/Deli/Bakery       11385.0     1717 CORNELIA STREET   \n",
      "...                             ...           ...                      ...   \n",
      "2587311  Restaurant/Bar/Deli/Bakery       11209.0            9124 3 AVENUE   \n",
      "2587312       Other (Explain Below)       11209.0            8624 5 AVENUE   \n",
      "2587313  Restaurant/Bar/Deli/Bakery       11103.0    25-53 STEINWAY STREET   \n",
      "2587314  Restaurant/Bar/Deli/Bakery       10461.0  1051 MORRIS PARK AVENUE   \n",
      "2587315  Restaurant/Bar/Deli/Bakery       10023.0     138 WEST   72 STREET   \n",
      "\n",
      "         ... Vehicle Type Taxi Company Borough Taxi Pick Up Location  \\\n",
      "0        ...          NaN                  NaN                   NaN   \n",
      "1        ...          NaN                  NaN                   NaN   \n",
      "2        ...          NaN                  NaN                   NaN   \n",
      "3        ...          NaN                  NaN                   NaN   \n",
      "4        ...          NaN                  NaN                   NaN   \n",
      "...      ...          ...                  ...                   ...   \n",
      "2587311  ...          NaN                  NaN                   NaN   \n",
      "2587312  ...          NaN                  NaN                   NaN   \n",
      "2587313  ...          NaN                  NaN                   NaN   \n",
      "2587314  ...          NaN                  NaN                   NaN   \n",
      "2587315  ...          NaN                  NaN                   NaN   \n",
      "\n",
      "        Bridge Highway Name Bridge Highway Direction Road Ramp  \\\n",
      "0                       NaN                      NaN       NaN   \n",
      "1                       NaN                      NaN       NaN   \n",
      "2                       NaN                      NaN       NaN   \n",
      "3                       NaN                      NaN       NaN   \n",
      "4                       NaN                      NaN       NaN   \n",
      "...                     ...                      ...       ...   \n",
      "2587311                 NaN                      NaN       NaN   \n",
      "2587312                 NaN                      NaN       NaN   \n",
      "2587313                 NaN                      NaN       NaN   \n",
      "2587314                 NaN                      NaN       NaN   \n",
      "2587315                 NaN                      NaN       NaN   \n",
      "\n",
      "        Bridge Highway Segment   Latitude  Longitude  \\\n",
      "0                          NaN  40.600129 -73.941843   \n",
      "1                          NaN  40.864866 -73.888783   \n",
      "2                          NaN  40.652536 -73.923540   \n",
      "3                          NaN  40.595653 -74.000173   \n",
      "4                          NaN  40.700366 -73.905438   \n",
      "...                        ...        ...        ...   \n",
      "2587311                    NaN  40.619526 -74.032678   \n",
      "2587312                    NaN  40.621290 -74.026401   \n",
      "2587313                    NaN  40.767544 -73.912011   \n",
      "2587314                    NaN  40.848881 -73.854548   \n",
      "2587315                    NaN  40.778001 -73.980217   \n",
      "\n",
      "                                         Location  \n",
      "0          (40.6001292057807, -73.94184291675883)  \n",
      "1         (40.86486556770799, -73.88878325729915)  \n",
      "2         (40.65253575905768, -73.92353994017134)  \n",
      "3         (40.59565343138651, -74.00017283917487)  \n",
      "4        (40.700366489799876, -73.90543829006366)  \n",
      "...                                           ...  \n",
      "2587311   (40.61952576112152, -74.03267828781475)  \n",
      "2587312   (40.62128953061527, -74.02640051787417)  \n",
      "2587313   (40.76754409395394, -73.91201078406542)  \n",
      "2587314   (40.84888075652176, -73.85454787423885)  \n",
      "2587315   (40.778000511048376, -73.9802171033629)  \n",
      "\n",
      "[2587316 rows x 41 columns]\n",
      "2587316\n"
     ]
    }
   ],
   "source": [
    "#test print\n",
    "\n",
    "print (df)\n",
    "print (len(df))"
   ]
  },
  {
   "cell_type": "code",
   "execution_count": 3,
   "id": "95aead76",
   "metadata": {},
   "outputs": [
    {
     "name": "stdout",
     "output_type": "stream",
     "text": [
      "0.07487334365033108\n"
     ]
    }
   ],
   "source": [
    "#filter out rows with complaint type = illegal parking \n",
    "\n",
    "df2 = df[df[\"Complaint Type\"] == \"Illegal Parking\"]\n",
    "\n",
    "#number of rows with complaint type = illegal parking  \n",
    "\n",
    "a = len(df2)\n",
    "\n",
    "#total number of complaints\n",
    "\n",
    "b = len(df)\n",
    "\n",
    "#fraction of illegal parking complaints\n",
    "\n",
    "c = a / b \n",
    "\n",
    "print (c)"
   ]
  },
  {
   "cell_type": "code",
   "execution_count": 4,
   "id": "77e076f3",
   "metadata": {},
   "outputs": [
    {
     "name": "stdout",
     "output_type": "stream",
     "text": [
      "0.05207265952491849\n"
     ]
    }
   ],
   "source": [
    "#convert zip to str\n",
    "\n",
    "df[\"Incident Zip\"] = df[\"Incident Zip\"].astype(str)\n",
    "\n",
    "#remove the .0 in the Incident Zip str\n",
    "\n",
    "df[\"Incident Zip\"] = df[\"Incident Zip\"].map(lambda x: x.rstrip('.0'))\n",
    "\n",
    "#zip code to do analysis\n",
    "\n",
    "zip_code = \"10027\"\n",
    "\n",
    "#filter out rows with zip_code = 10027\n",
    "\n",
    "df3 = df[df[\"Incident Zip\"] == zip_code]\n",
    "\n",
    "#number of rows with zip_code = 10027 \n",
    "\n",
    "d = len(df3)\n",
    "\n",
    "#filter out rows with complaint type = illegal parking & with zip_code = 10027\n",
    "\n",
    "df4 = df3[df3[\"Complaint Type\"] == \"Illegal Parking\"]\n",
    "\n",
    "#number of rows with complaint type = illegal parking & with zip_code = 10027  \n",
    "\n",
    "e = len(df4)\n",
    "\n",
    "#fraction of illegal parking complaints in zip_code = 10027 \n",
    "\n",
    "f = e / d\n",
    "\n",
    "print (f)"
   ]
  },
  {
   "cell_type": "code",
   "execution_count": 7,
   "id": "ffaf5123",
   "metadata": {},
   "outputs": [
    {
     "data": {
      "text/plain": [
       "True"
      ]
     },
     "execution_count": 7,
     "metadata": {},
     "output_type": "execute_result"
    }
   ],
   "source": [
    "higher_parking_proportion = f > c\n",
    "\n",
    "higher_parking_proportion"
   ]
  },
  {
   "cell_type": "code",
   "execution_count": null,
   "id": "b3be7df5",
   "metadata": {},
   "outputs": [],
   "source": []
  }
 ],
 "metadata": {
  "kernelspec": {
   "display_name": "Python 3",
   "language": "python",
   "name": "python3"
  },
  "language_info": {
   "codemirror_mode": {
    "name": "ipython",
    "version": 3
   },
   "file_extension": ".py",
   "mimetype": "text/x-python",
   "name": "python",
   "nbconvert_exporter": "python",
   "pygments_lexer": "ipython3",
   "version": "3.8.8"
  }
 },
 "nbformat": 4,
 "nbformat_minor": 5
}
