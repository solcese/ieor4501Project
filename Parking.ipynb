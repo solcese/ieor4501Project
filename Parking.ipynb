{
 "cells": [
  {
   "cell_type": "code",
   "execution_count": 6,
   "id": "6ce4021f-39a0-49a5-96dd-663da9ad9a15",
   "metadata": {},
   "outputs": [
    {
     "name": "stderr",
     "output_type": "stream",
     "text": [
      "C:\\Users\\1\\anaconda3\\lib\\site-packages\\IPython\\core\\interactiveshell.py:3165: DtypeWarning: Columns (20,31,32) have mixed types.Specify dtype option on import or set low_memory=False.\n",
      "  has_raised = await self.run_ast_nodes(code_ast.body, cell_name,\n"
     ]
    }
   ],
   "source": [
    "import numpy as np\n",
    "import pandas as pd\n",
    "\n",
    "#load and read the data\n",
    "\n",
    "df = pd.read_csv(\"311_Service_Requests_2020.csv\")"
   ]
  },
  {
   "cell_type": "code",
   "execution_count": 7,
   "id": "b80e0734",
   "metadata": {},
   "outputs": [],
   "source": [
    "#test print\n",
    "\n",
    "#print (df)\n",
    "#print (len(df))"
   ]
  },
  {
   "cell_type": "code",
   "execution_count": 8,
   "id": "f0cb19df",
   "metadata": {},
   "outputs": [
    {
     "name": "stdout",
     "output_type": "stream",
     "text": [
      "0.07487334365033108\n"
     ]
    }
   ],
   "source": [
    "#total number of complaints\n",
    "\n",
    "total_incident_count = len(df)\n",
    "\n",
    "#filter out rows with complaint type = illegal parking \n",
    "\n",
    "df2 = df[df[\"Complaint Type\"] == \"Illegal Parking\"]\n",
    "\n",
    "#number of rows with complaint type = illegal parking  \n",
    "\n",
    "illegal_parking_count = len(df2)\n",
    "\n",
    "#fraction of illegal parking complaints\n",
    "\n",
    "illegal_parking_ratio = illegal_parking_count / total_incident_count \n",
    "\n",
    "print (illegal_parking_ratio)"
   ]
  },
  {
   "cell_type": "code",
   "execution_count": 4,
   "id": "7c5b8562",
   "metadata": {},
   "outputs": [],
   "source": [
    "#convert zip to str\n",
    "\n",
    "df[\"Incident Zip\"] = df[\"Incident Zip\"].astype(str)\n",
    "\n",
    "#remove the .0 in the Incident Zip str\n",
    "\n",
    "df[\"Incident Zip\"] = df[\"Incident Zip\"].map(lambda x: x.rstrip('.0'))\n",
    "\n",
    "#zip code to do analysis\n",
    "\n",
    "zip_code = \"10027\"\n",
    "\n",
    "#filter out rows with zip_code = 10027\n",
    "\n",
    "df3 = df[df[\"Incident Zip\"] == zip_code]\n",
    "\n",
    "#number of rows with zip_code = 10027 \n",
    "\n",
    "zipcode_incident_count = len(df3)\n",
    "\n",
    "#filter out rows with complaint type = illegal parking & with zip_code = 10027\n",
    "\n",
    "df4 = df3[df3[\"Complaint Type\"] == \"Illegal Parking\"]\n",
    "\n",
    "#number of rows with complaint type = illegal parking & with zip_code = 10027  \n",
    "\n",
    "zipcode_illegal_parking_count = len(df4)\n",
    "\n",
    "#fraction of illegal parking complaints in zip_code = 10027 \n",
    "\n",
    "zipcode_illegal_parking_ratio = zipcode_illegal_parking_count / zipcode_incident_count\n",
    "\n"
   ]
  },
  {
   "cell_type": "code",
   "execution_count": 5,
   "id": "16818c22",
   "metadata": {},
   "outputs": [
    {
     "data": {
      "text/plain": [
       "False"
      ]
     },
     "execution_count": 5,
     "metadata": {},
     "output_type": "execute_result"
    }
   ],
   "source": [
    "higher_parking_proportion = zipcode_illegal_parking_ratio > illegal_parking_ratio\n",
    "\n",
    "higher_parking_proportion"
   ]
  },
  {
   "cell_type": "code",
   "execution_count": null,
   "id": "539ddfb8",
   "metadata": {},
   "outputs": [],
   "source": []
  }
 ],
 "metadata": {
  "kernelspec": {
   "display_name": "Python 3",
   "language": "python",
   "name": "python3"
  },
  "language_info": {
   "codemirror_mode": {
    "name": "ipython",
    "version": 3
   },
   "file_extension": ".py",
   "mimetype": "text/x-python",
   "name": "python",
   "nbconvert_exporter": "python",
   "pygments_lexer": "ipython3",
   "version": "3.8.8"
  }
 },
 "nbformat": 4,
 "nbformat_minor": 5
}
