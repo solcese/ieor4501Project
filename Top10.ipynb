{
 "cells": [
  {
   "cell_type": "code",
   "execution_count": 101,
   "id": "902d7f79-75c3-4a7a-886d-3f3e5d86a3ea",
   "metadata": {},
   "outputs": [
    {
     "name": "stderr",
     "output_type": "stream",
     "text": [
      "/Users/shawn/opt/anaconda3/lib/python3.8/site-packages/IPython/core/interactiveshell.py:3165: DtypeWarning: Columns (20,31,32) have mixed types.Specify dtype option on import or set low_memory=False.\n",
      "  has_raised = await self.run_ast_nodes(code_ast.body, cell_name,\n"
     ]
    }
   ],
   "source": [
    "import numpy as np\n",
    "import pandas as pd\n",
    "\n",
    "#load and read the data\n",
    "\n",
    "\n",
    "df = pd.read_csv(\"311_Service_Requests_2020.csv\")\n"
   ]
  },
  {
   "cell_type": "code",
   "execution_count": 82,
   "id": "cbacfee0-639b-47b4-9464-1a9bc630fef0",
   "metadata": {},
   "outputs": [
    {
     "data": {
      "text/plain": [
       "0    01/01/2020 12:00:00 AM\n",
       "Name: Created Date, dtype: object"
      ]
     },
     "execution_count": 82,
     "metadata": {},
     "output_type": "execute_result"
    }
   ],
   "source": [
    "df[\"Created Date\"][:1]"
   ]
  },
  {
   "cell_type": "code",
   "execution_count": 85,
   "id": "b84d1e6c-a553-4991-b94d-ce592ff98315",
   "metadata": {},
   "outputs": [
    {
     "data": {
      "text/plain": [
       "array(['2020'], dtype=object)"
      ]
     },
     "execution_count": 85,
     "metadata": {},
     "output_type": "execute_result"
    }
   ],
   "source": [
    "#convert zip to str\n",
    "df[\"Incident Zip\"] = df[\"Incident Zip\"].astype(str)\n",
    "\n",
    "# remove the .0 in the Incident Zip str\n",
    "\n",
    "df[\"Incident Zip\"] = df[\"Incident Zip\"].map(lambda x: x.rstrip('.0'))\n",
    "\n",
    "df[\"Incident Year\"] = df[\"Created Date\"].map(lambda x: x[6:10])\n",
    "df[\"Incident Year\"].unique()"
   ]
  },
  {
   "cell_type": "code",
   "execution_count": 87,
   "id": "603c64bb-6900-452d-8c17-3d1bb04ad40b",
   "metadata": {},
   "outputs": [],
   "source": [
    "#zip code to do analysis\n",
    "\n",
    "zip_code = \"10027\"\n",
    "\n",
    "# filter out rows that match zip_code\n",
    "\n",
    "df = df[df[\"Incident Zip\"] == zip_code]\n",
    "\n",
    "# filter out rows with year in 2020\n",
    "\n",
    "df = df[df[\"Incident Year\"] == \"2020\"]"
   ]
  },
  {
   "cell_type": "code",
   "execution_count": 88,
   "id": "c1c7d2ed-55f0-46ab-90c4-ccb5dadb7df4",
   "metadata": {},
   "outputs": [
    {
     "data": {
      "text/plain": [
       "305        2020\n",
       "542        2020\n",
       "553        2020\n",
       "614        2020\n",
       "693        2020\n",
       "           ... \n",
       "2586194    2020\n",
       "2586950    2020\n",
       "2587055    2020\n",
       "2587073    2020\n",
       "2587183    2020\n",
       "Name: Incident Year, Length: 21470, dtype: object"
      ]
     },
     "execution_count": 88,
     "metadata": {},
     "output_type": "execute_result"
    }
   ],
   "source": [
    "df[\"Incident Year\"]"
   ]
  },
  {
   "cell_type": "code",
   "execution_count": 95,
   "id": "6f3a3485-419f-4f92-a823-0d98f56d36b2",
   "metadata": {},
   "outputs": [],
   "source": [
    "#find the top 10 most common reasons that 311 was called\n",
    "\n",
    "top10 = df[\"Complaint Type\"].value_counts().head(10)\n"
   ]
  },
  {
   "cell_type": "code",
   "execution_count": null,
   "id": "7b20bb60-5c13-4ed8-968b-9b15ad5dce76",
   "metadata": {},
   "outputs": [],
   "source": []
  }
 ],
 "metadata": {
  "kernelspec": {
   "display_name": "Python 3",
   "language": "python",
   "name": "python3"
  },
  "language_info": {
   "codemirror_mode": {
    "name": "ipython",
    "version": 3
   },
   "file_extension": ".py",
   "mimetype": "text/x-python",
   "name": "python",
   "nbconvert_exporter": "python",
   "pygments_lexer": "ipython3",
   "version": "3.8.8"
  }
 },
 "nbformat": 4,
 "nbformat_minor": 5
}
